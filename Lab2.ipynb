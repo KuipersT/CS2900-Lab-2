{
 "cells": [
  {
   "cell_type": "markdown",
   "metadata": {},
   "source": [
    "<div id=\"header\">\n",
    "<h1 class=\"title\">CS2900 :- Topic 2 Lab</h1>\n",
    "<h2 class=\"author\">Hugh Shanahan</h2>\n",
    "</div>"
   ]
  },
  {
   "cell_type": "markdown",
   "metadata": {},
   "source": [
    "The learning outcomes of this session are:\n",
    "\n",
    "- To have an introductory understanding of matrix notation and related tools in NumPy.\n",
    "- To become familiar with the concept of rotations and other linear transformations on Vectors.\n",
    "- To apply the concept of adjacency matrices in determining numbers of walks between nodes in a graph.\n"
   ]
  },
  {
   "cell_type": "markdown",
   "metadata": {},
   "source": [
    "# Grader\n",
    "\n",
    "Just like last week, run the following code cells to set up the test functions for grading your work."
   ]
  },
  {
   "cell_type": "code",
   "execution_count": null,
   "metadata": {},
   "outputs": [],
   "source": [
    "from client.api.notebook import Notebook\n",
    "ok = Notebook('config/lab2.ok')"
   ]
  },
  {
   "cell_type": "markdown",
   "metadata": {},
   "source": [
    "# NumPy and Matrices"
   ]
  },
  {
   "cell_type": "code",
   "execution_count": null,
   "metadata": {},
   "outputs": [],
   "source": [
    "import numpy as np\n",
    "import traceback as tb"
   ]
  },
  {
   "cell_type": "markdown",
   "metadata": {},
   "source": [
    "- We can now discuss how one can set up arrays of more than one dimension. A simple <span class=\"math inline\">2  ×  3</span> matrix can be defined by typing:"
   ]
  },
  {
   "cell_type": "code",
   "execution_count": null,
   "metadata": {},
   "outputs": [],
   "source": [
    "A = np.array([[1.5,2,3], [4,5,6]])"
   ]
  },
  {
   "cell_type": "markdown",
   "metadata": {},
   "source": [
    "Defining a matrix is very much an extension of how vectors are defined, i.e. by adding additional rows."
   ]
  },
  {
   "cell_type": "markdown",
   "metadata": {},
   "source": [
    "Likewise, one can print out the contents of an array and find out its dimensions (always 2 for us), the number of rows and columns and how many entries it has in total."
   ]
  },
  {
   "cell_type": "code",
   "execution_count": null,
   "metadata": {},
   "outputs": [],
   "source": [
    "print(A)"
   ]
  },
  {
   "cell_type": "code",
   "execution_count": null,
   "metadata": {},
   "outputs": [],
   "source": [
    "print(A.ndim)"
   ]
  },
  {
   "cell_type": "code",
   "execution_count": null,
   "metadata": {},
   "outputs": [],
   "source": [
    "print(A.shape)"
   ]
  },
  {
   "cell_type": "code",
   "execution_count": null,
   "metadata": {},
   "outputs": [],
   "source": [
    "print(A.size)"
   ]
  },
  {
   "cell_type": "markdown",
   "metadata": {},
   "source": [
    "We can use the same commands for a vector - NumPy does not make a distinction between a vector and a matrix. \n",
    "\n",
    "For NumPy, vectors are just a special instance of an array."
   ]
  },
  {
   "cell_type": "code",
   "execution_count": null,
   "metadata": {},
   "outputs": [],
   "source": [
    "b = np.array([5.1,2.0,3.1])"
   ]
  },
  {
   "cell_type": "code",
   "execution_count": null,
   "metadata": {},
   "outputs": [],
   "source": [
    "print(b)"
   ]
  },
  {
   "cell_type": "code",
   "execution_count": null,
   "metadata": {},
   "outputs": [],
   "source": [
    "print(b.ndim)"
   ]
  },
  {
   "cell_type": "code",
   "execution_count": null,
   "metadata": {},
   "outputs": [],
   "source": [
    "print(b.shape)"
   ]
  },
  {
   "cell_type": "code",
   "execution_count": null,
   "metadata": {},
   "outputs": [],
   "source": [
    "print(b.size)"
   ]
  },
  {
   "cell_type": "markdown",
   "metadata": {},
   "source": [
    "<ul>\n",
    "<li><p>NumPy allows building arrays with more than 2 indices, but we’re not going to explore such objects.</p></li>\n",
    "<li><p>NumPy also has a class of objects which are explicitly referred to as of type <span>matrix</span>. Again, we’ll avoid using that class. All the objects we use (unless we explictely state otherwise will be of type <span>array</span>) even if we call them matrices or vectors.</p></li>\n",
    "<li><p>A number of functions exist to create matrices without having to explictly enter the data in them. So</p>\n",
    "</ul>"
   ]
  },
  {
   "cell_type": "markdown",
   "metadata": {},
   "source": [
    "The code below creates an array **A** with the same number of rows and columns as above but with *zeros*."
   ]
  },
  {
   "cell_type": "code",
   "execution_count": null,
   "metadata": {},
   "outputs": [],
   "source": [
    "A = np.zeros((2,3))"
   ]
  },
  {
   "cell_type": "markdown",
   "metadata": {},
   "source": [
    "## CHECKPOINT 1 \n",
    "\n",
    "- **Create variables `nrow` and `ncol` that have the numbers of rows and columns of `A` respectively.**"
   ]
  },
  {
   "cell_type": "code",
   "execution_count": null,
   "metadata": {},
   "outputs": [],
   "source": [
    "# Your code here...\n",
    "\n"
   ]
  },
  {
   "cell_type": "code",
   "execution_count": null,
   "metadata": {},
   "outputs": [],
   "source": [
    "ok.grade('cp1')"
   ]
  },
  {
   "cell_type": "markdown",
   "metadata": {},
   "source": [
    "The code below creates an array **A** with the same number of rows and columns as above but with **ones**.\n",
    "\n"
   ]
  },
  {
   "cell_type": "code",
   "execution_count": null,
   "metadata": {},
   "outputs": [],
   "source": [
    "A = np.ones((2,3))"
   ]
  },
  {
   "cell_type": "markdown",
   "metadata": {},
   "source": [
    "This code creates an array with the same dimensions as above but does not have **any** of the entries initialised. This can be faster than using zeros but you need to assign values and to be careful that you have done so (**why?**).\n",
    "\n",
    "If you have a matrix and you want to create a similarly sized matrix with one of the above three properties then you can do that by using the commands *zeros_like*, *ones_like* and *empty_like*.\n",
    "\n",
    "Type:"
   ]
  },
  {
   "cell_type": "code",
   "execution_count": null,
   "metadata": {},
   "outputs": [],
   "source": [
    "A = np.empty((2,3))"
   ]
  },
  {
   "cell_type": "code",
   "execution_count": null,
   "metadata": {},
   "outputs": [],
   "source": [
    "B = np.array([[1.5,2],[3, 4],[5,6]])"
   ]
  },
  {
   "cell_type": "code",
   "execution_count": null,
   "metadata": {},
   "outputs": [],
   "source": [
    "A = np.zeros_like(B)"
   ]
  },
  {
   "cell_type": "code",
   "execution_count": null,
   "metadata": {},
   "outputs": [],
   "source": [
    "# \\n\\n just puts two line breaks between the output of B and A.\n",
    "print(B,\"\\n\\n\",A)"
   ]
  },
  {
   "cell_type": "code",
   "execution_count": null,
   "metadata": {},
   "outputs": [],
   "source": [
    "A = np.ones_like(B)"
   ]
  },
  {
   "cell_type": "code",
   "execution_count": null,
   "metadata": {},
   "outputs": [],
   "source": [
    "print(B,\"\\n\\n\",A)"
   ]
  },
  {
   "cell_type": "code",
   "execution_count": null,
   "metadata": {},
   "outputs": [],
   "source": [
    "A = np.empty_like(B)"
   ]
  },
  {
   "cell_type": "code",
   "execution_count": null,
   "metadata": {},
   "outputs": [],
   "source": [
    "print(B,\"\\n\\n\",A)"
   ]
  },
  {
   "cell_type": "markdown",
   "metadata": {},
   "source": [
    "## CHECKPOINT 2\n",
    "\n",
    "**Create a matrix `X` that has the same dimensions as the matrix**\n",
    "\n",
    "$$\\begin{pmatrix} \n",
    "1&1&2&2 \\\\\n",
    "3&2&1&8\n",
    "\\end{pmatrix}$$\n",
    "\n",
    "**with _ones_ in all its entries.**"
   ]
  },
  {
   "cell_type": "code",
   "execution_count": null,
   "metadata": {},
   "outputs": [],
   "source": [
    "# Your code here...\n",
    "\n"
   ]
  },
  {
   "cell_type": "code",
   "execution_count": null,
   "metadata": {},
   "outputs": [],
   "source": [
    "ok.grade('cp2')"
   ]
  },
  {
   "cell_type": "markdown",
   "metadata": {},
   "source": [
    "We can create an identity matrix for square matrices like so:"
   ]
  },
  {
   "cell_type": "code",
   "execution_count": null,
   "metadata": {},
   "outputs": [],
   "source": [
    "A = np.eye(4)"
   ]
  },
  {
   "cell_type": "code",
   "execution_count": null,
   "metadata": {},
   "outputs": [],
   "source": [
    "print(A)"
   ]
  },
  {
   "cell_type": "markdown",
   "metadata": {},
   "source": [
    "<p>Finally, we can update individual elements as we would if we were accessing a regular 2D array.</p>"
   ]
  },
  {
   "cell_type": "code",
   "execution_count": null,
   "metadata": {},
   "outputs": [],
   "source": [
    "A[0,1] = 7.0"
   ]
  },
  {
   "cell_type": "code",
   "execution_count": null,
   "metadata": {},
   "outputs": [],
   "source": [
    "print(A)"
   ]
  },
  {
   "cell_type": "markdown",
   "metadata": {},
   "source": [
    "One can compute the vector that is created by multiplying a matrix with a vector using the `np.matmul(A, b)` function. Type:"
   ]
  },
  {
   "cell_type": "code",
   "execution_count": null,
   "metadata": {},
   "outputs": [],
   "source": [
    "b = np.array([5,2])"
   ]
  },
  {
   "cell_type": "code",
   "execution_count": null,
   "metadata": {},
   "outputs": [],
   "source": [
    "A = np.array([[0,4],[1,1]])"
   ]
  },
  {
   "cell_type": "code",
   "execution_count": null,
   "metadata": {},
   "outputs": [],
   "source": [
    "print(np.matmul(A,b))"
   ]
  },
  {
   "cell_type": "markdown",
   "metadata": {},
   "source": [
    "This is a simple $2 \\times 2$ example but we can pick different matrix sizes. Type:"
   ]
  },
  {
   "cell_type": "code",
   "execution_count": null,
   "metadata": {},
   "outputs": [],
   "source": [
    "b = np.array([5,2,1])"
   ]
  },
  {
   "cell_type": "code",
   "execution_count": null,
   "metadata": {},
   "outputs": [],
   "source": [
    "A = np.array([[0,4,0],[1,1,1]])"
   ]
  },
  {
   "cell_type": "code",
   "execution_count": null,
   "metadata": {},
   "outputs": [],
   "source": [
    "print(np.matmul(A,b))"
   ]
  },
  {
   "cell_type": "markdown",
   "metadata": {},
   "source": [
    "<p>But we need to be careful about the dimensions! Type</p>"
   ]
  },
  {
   "cell_type": "code",
   "execution_count": null,
   "metadata": {},
   "outputs": [],
   "source": [
    "A = np.array([[0,4],[0,1],[1,1]])"
   ]
  },
  {
   "cell_type": "code",
   "execution_count": null,
   "metadata": {},
   "outputs": [],
   "source": [
    "try:\n",
    "    print(np.matmul(A,b))\n",
    "except :\n",
    "    print(tb.format_exc())"
   ]
  },
  {
   "cell_type": "markdown",
   "metadata": {},
   "source": [
    "**What happened here?** Try to understand this before moving on.\n",
    "\n",
    "One can likewise multiply matrices using the `np.matmul(A,b)` command. Type:"
   ]
  },
  {
   "cell_type": "code",
   "execution_count": null,
   "metadata": {},
   "outputs": [],
   "source": [
    "A = np.array([[0,4],[1,1]])"
   ]
  },
  {
   "cell_type": "code",
   "execution_count": null,
   "metadata": {},
   "outputs": [],
   "source": [
    "B = np.array([[1,2],[0,1]])"
   ]
  },
  {
   "cell_type": "code",
   "execution_count": null,
   "metadata": {},
   "outputs": [],
   "source": [
    "print(np.matmul(A,B))"
   ]
  },
  {
   "cell_type": "markdown",
   "metadata": {},
   "source": [
    "## CHECKPOINT 3\n",
    "\n",
    "**If**\n",
    "$$\n",
    "{\\mathbf R} = \\begin{pmatrix}3& 2 & 1 \\\\ 1 & -1 & 2\\end{pmatrix}\n",
    "$$\n",
    "**and**\n",
    "$$\n",
    "\\underline{x} = \\begin{pmatrix} 1 \\\\ 2 \\\\ -1\\end{pmatrix}\n",
    "$$\n",
    "\n",
    "- **Create a vector `y` such that** $\\underline{y}  = {\\mathbf R}\\underline{x}$.\n",
    "- **Define and compute the variable `n` which is equal to the size of `y`.**"
   ]
  },
  {
   "cell_type": "code",
   "execution_count": null,
   "metadata": {},
   "outputs": [],
   "source": [
    "# Your code here...\n",
    "\n"
   ]
  },
  {
   "cell_type": "code",
   "execution_count": null,
   "metadata": {},
   "outputs": [],
   "source": [
    "ok.grade('cp3')"
   ]
  },
  {
   "cell_type": "markdown",
   "metadata": {},
   "source": [
    "Finally, one can compute the inverse of matrices using the `invert` function which is part of the `numpy.linalg` module. \n",
    "\n",
    "Type:"
   ]
  },
  {
   "cell_type": "code",
   "execution_count": null,
   "metadata": {},
   "outputs": [],
   "source": [
    "print(np.linalg.inv(A))"
   ]
  },
  {
   "cell_type": "markdown",
   "metadata": {},
   "source": [
    "<p>but we always have to aware that many matrices are singular (non-invertible) !</p>"
   ]
  },
  {
   "cell_type": "code",
   "execution_count": null,
   "metadata": {},
   "outputs": [],
   "source": [
    "A = np.array([[0,4],[0,8]])"
   ]
  },
  {
   "cell_type": "code",
   "execution_count": null,
   "metadata": {},
   "outputs": [],
   "source": [
    "try:\n",
    "    print(np.linalg.inv(A))\n",
    "except :\n",
    "    print(tb.format_exc())"
   ]
  },
  {
   "cell_type": "markdown",
   "metadata": {},
   "source": [
    "# Rotations and Stretching"
   ]
  },
  {
   "cell_type": "markdown",
   "metadata": {},
   "source": [
    "In the lectures, we discussed matrices that rotate or those that stretch (or ‘scrunch’). In this part of the lab exercise, we will extend this case to 3 dimensions.\n",
    "\n",
    "We noted that a rotation in **2** dimensions over an angle $\\theta$ is:\n",
    "$$\n",
    "\\begin{pmatrix}\n",
    "\\cos \\theta & -\\sin \\theta \\\\\n",
    "\\sin \\theta & \\cos \\theta\n",
    "\\end{pmatrix}\n",
    "$$\n",
    "\n",
    "**How could this be extended to three dimensions?** The trick is to think of this\n",
    "in steps. In particular, let us suppose we want to do a rotation in 3 dimensional space\n",
    "but we only want to do  a rotation in the **x-y** plane. \n",
    "\n",
    "This means that we want to rotate the $x$ and $y$ coordinates but leave $z$ alone. What we want to do is, extend the above rotation **without** changing the $z$ coordinate. This can be achieved with:\n",
    "\n",
    "$$\n",
    "\\begin{pmatrix}\n",
    "\\cos \\theta & -\\sin \\theta & 0 \\\\\n",
    "\\sin \\theta & \\cos \\theta  & 0 \\\\\n",
    "0 & 0 & 1\n",
    "\\end{pmatrix}\n",
    "$$"
   ]
  },
  {
   "cell_type": "markdown",
   "metadata": {},
   "source": [
    "## CHECKPOINT 4\n",
    "\n",
    "**Write a Python function `thetaRot` that accepts a single argument `theta` which is a floating point number and returns a $3 \\times 3$ NumPy matrix of the above form (i.e. `theta` = $\\theta $ ).**\n",
    "\n",
    "**Hint:** You will need to use the math library. \n",
    "\n",
    "Using pen and paper, compute what the matrix should be if $\\theta = 45$ degrees ($\\pi/4$). \n",
    "\n",
    "**Note:** $\\cos{\\pi/4} = \\sin{pi/4} = \\frac{1}{\\sqrt{2}}$. \n",
    "\n",
    "- **Check if `thetaRot` returns that matrix.**"
   ]
  },
  {
   "cell_type": "code",
   "execution_count": null,
   "metadata": {},
   "outputs": [],
   "source": [
    "# Your code here...\n",
    "\n"
   ]
  },
  {
   "cell_type": "code",
   "execution_count": null,
   "metadata": {},
   "outputs": [],
   "source": [
    "ok.grade('cp4')"
   ]
  },
  {
   "cell_type": "markdown",
   "metadata": {},
   "source": [
    "## CHECKPOINT 5\n",
    "\n",
    "**Write a Python function `Rx` which has two arguments, a $3 \\times 3$ NumPy matrix, `R`, and a 3-dimensional vector, `x`, and returns the vector $\\underline{y} = \\mathbf{R} \\underline{x}$.**\n",
    "\n",
    "**If R is the output from thetaRot when theta = $\\pi/4$ and** \n",
    "$$\n",
    "\\begin{pmatrix}\n",
    "1 \\\\\n",
    "1 \\\\\n",
    "1 \n",
    "\\end{pmatrix}\n",
    "$$\n",
    "\n",
    "**Compute $\\mathbf{R} \\underline{x}$ with pen and paper and check if the output of `Rx` is the same.**"
   ]
  },
  {
   "cell_type": "code",
   "execution_count": null,
   "metadata": {},
   "outputs": [],
   "source": [
    "# Your code here...\n",
    "\n"
   ]
  },
  {
   "cell_type": "code",
   "execution_count": null,
   "metadata": {},
   "outputs": [],
   "source": [
    "ok.grade('cp5')"
   ]
  },
  {
   "cell_type": "markdown",
   "metadata": {},
   "source": [
    "Correspondingly, if we wanted to do the same operation with a rotation of $\\phi$ in the **y-z**\n",
    "plane, then the rotation matrix is:\n",
    "\n",
    "$$\n",
    "\\begin{pmatrix}\n",
    "1 & 0 & 0 \\\\\n",
    "0 & \\cos \\phi & -\\sin \\phi  \\\\\n",
    "0 & \\sin \\phi & \\cos \\phi\n",
    "\\end{pmatrix}\n",
    "$$\n",
    "\n",
    "**QUESTION:** What would be the corresponding matrix for the **x-z** plane?"
   ]
  },
  {
   "cell_type": "markdown",
   "metadata": {},
   "source": [
    "As an aside, it turns out that <em> any </em>  rotation in 3-dimensional space can be represented as a series of rotations in 2-dimensional planes, though those planes are\n",
    "not as straightforward as the above. These are the so called *Euler angles*, \n",
    "but we will not consider this any further.\n",
    "\n",
    "The corresponding Python code to compute a rotation `R1` in the **x-y** plane when $\\theta=\\pi/4$ and a rotation `R2` which is in the **y-z** plane when $\\phi=\\pi/8$ is\n"
   ]
  },
  {
   "cell_type": "code",
   "execution_count": null,
   "metadata": {},
   "outputs": [],
   "source": [
    "import math\n",
    "from math import pi\n",
    "\n",
    "theta = pi/4.0\n",
    "cT = math.cos(theta)\n",
    "sT = math.sin(theta)\n",
    "R1 = np.array([[cT,-sT,0],[sT,cT,0],[0,0,1]])\n",
    "phi = pi/8.0\n",
    "cP = math.cos(phi)\n",
    "sP = math.sin(phi)\n",
    "R2 = np.array([[1,0,0], [0,cP,-sP],[0,sP,cP]])\n"
   ]
  },
  {
   "cell_type": "markdown",
   "metadata": {},
   "source": [
    "## EXTENSION CHECKPOINT (NOT GRADED)\n",
    "\n",
    "**Write a Python function `generalRot` that has two arguments, a string `plane` and an angle `t`.**\n",
    "\n",
    "- **The string plane can be `\"xy\"`, `\"yz\"` or `\"xz\"` to indicate which plane the rotation is being calculated in.**\n",
    "- **If it is not one of these, then it returns the message `\"Plane must xy, yz or xz\"`.**\n",
    "- **If plane is correct then it returns the corresponding $3 \\times 3$ NumPy matrix corresponding to a rotation of `t` in that plane.**"
   ]
  },
  {
   "cell_type": "code",
   "execution_count": null,
   "metadata": {},
   "outputs": [],
   "source": [
    "# Your code here...\n",
    "\n"
   ]
  },
  {
   "cell_type": "markdown",
   "metadata": {},
   "source": [
    "We can compute how vectors are transformed under these matrices. It is worth\n",
    "asking what happens to dot products of vectors before and after rotation."
   ]
  },
  {
   "cell_type": "markdown",
   "metadata": {},
   "source": [
    "## CHECKPOINT 6\n",
    "\n",
    "**Write a function `compare` that accepts two 3 dimensional NumPy vectors `x` and `y` and a 3x3 NumPy matrix `A`.**\n",
    "\n",
    "**`compare` should return a tuple of the form `(l1,l2,d1,d2)` where `l1` is the length of `x`, `l2` is length of `x` multiplied by `R`.**\n",
    "\n",
    "**`d1` is the dot product of `x` and `y` and `d2` is the dot product of** $ \\bf{R} \\underline{x}$ **and** $ \\bf{R} \\underline{y} $. \n",
    "\n",
    "<b>Apply this function for</b>\n",
    "\n",
    "$$\n",
    "\\underline{x} = \n",
    "\\begin{pmatrix} \n",
    "1 \\\\\n",
    "1 \\\\\n",
    "1 \n",
    "\\end{pmatrix}\n",
    "$$\n",
    "\n",
    "\n",
    "$$\n",
    "\\underline{y} = \n",
    "\\begin{pmatrix} \n",
    "1 \\\\\n",
    "1 \\\\\n",
    "-1 \n",
    "\\end{pmatrix}\n",
    "$$\n",
    "\n",
    "**and `R` = `R1` (described above).**\n",
    "\n",
    "\n",
    "**`l1` should be equal to  `l2` and `d1` should be equal to `d2`. _Why?_**"
   ]
  },
  {
   "cell_type": "code",
   "execution_count": null,
   "metadata": {},
   "outputs": [],
   "source": [
    "# Your code here...\n",
    "\n"
   ]
  },
  {
   "cell_type": "code",
   "execution_count": null,
   "metadata": {},
   "outputs": [],
   "source": [
    "ok.grade('cp6')"
   ]
  },
  {
   "cell_type": "markdown",
   "metadata": {},
   "source": [
    "We can compute the inverse of `R1` simply by using the `linalg.inv` function\n",
    "but it's also possible to determine it directly (i.e. by a formula like how we defined `R1` initially)."
   ]
  },
  {
   "cell_type": "markdown",
   "metadata": {},
   "source": [
    "## CHECKPOINT 7\n",
    "\n",
    "**Create a $3 \\times 3$ matrix, `R1m`, that is the inverse of `R1` by using a formula.**\n",
    "\n",
    "**Hint: think about the angle of rotation in the inverse.**\n",
    "\n",
    "**Then, compute a $3 \\times 3$ matrix, `R1inv`, that is the inverse of `R1` using the `linalg.inv` function.**"
   ]
  },
  {
   "cell_type": "code",
   "execution_count": null,
   "metadata": {},
   "outputs": [],
   "source": [
    "# Your code here...\n",
    "\n"
   ]
  },
  {
   "cell_type": "code",
   "execution_count": null,
   "metadata": {},
   "outputs": [],
   "source": [
    "ok.grade('cp7')"
   ]
  },
  {
   "cell_type": "markdown",
   "metadata": {},
   "source": [
    "## CHECKPOINT 8\n",
    "\n",
    "**Write a function `sqDiffMatrices` that accepts two arguments; two $3 \\times 3$ NumPy matrices, `A`, `B`, and returns:**\n",
    "\n",
    "$$ \\sum_{i,j} (A_{i,j} - B_{i,j})^2 $$. \n",
    "\n",
    "**Compute `sqDiffMatrices(R1m,R1inv)`. _What value should this be?_**"
   ]
  },
  {
   "cell_type": "code",
   "execution_count": null,
   "metadata": {},
   "outputs": [],
   "source": [
    "# Your code here...\n",
    "\n"
   ]
  },
  {
   "cell_type": "code",
   "execution_count": null,
   "metadata": {},
   "outputs": [],
   "source": [
    "ok.grade('cp8')"
   ]
  },
  {
   "cell_type": "markdown",
   "metadata": {},
   "source": [
    "Instead of thinking of one rotation, we can put rotations together by multiplying them together. In the case above, a composite rotation\n",
    "`np.matmul(R1,R2)` corresponds to first applying the rotation `R2` followed by the\n",
    "rotation `R1`."
   ]
  },
  {
   "cell_type": "markdown",
   "metadata": {},
   "source": [
    "## CHECKPOINT 9\n",
    "\n",
    "- **Compute the $3 \\times 3$ matrix, `A`, which corresponds to the above rotation (`R1` followed by `R2`).**\n",
    "\n",
    "- **Compute the $3 \\times 3$ matrix, `B`, which corresponds to the rotation `R2` followed by `R1`.**\n",
    "\n",
    "- **Compute `sqDiffMatrices(A,B)`. Is this value close to zero? _Why?_**"
   ]
  },
  {
   "cell_type": "code",
   "execution_count": null,
   "metadata": {},
   "outputs": [],
   "source": [
    "# Your code here...\n",
    "\n"
   ]
  },
  {
   "cell_type": "code",
   "execution_count": null,
   "metadata": {},
   "outputs": [],
   "source": [
    "ok.grade('cp9')"
   ]
  },
  {
   "cell_type": "markdown",
   "metadata": {},
   "source": [
    "<h2 id=\"Stretching\">Stretching</h2>"
   ]
  },
  {
   "cell_type": "markdown",
   "metadata": {},
   "source": [
    "The corresponding stretch matrix in 3 dimensions is:\n",
    "\n",
    "$$\n",
    "\\mathbf{S} = \n",
    "\\begin{pmatrix}\n",
    "a & 0 & 0 \\\\\n",
    "0 & b & 0 \\\\\n",
    "0 & 0 & c\n",
    "\\end{pmatrix}\n",
    "$$"
   ]
  },
  {
   "cell_type": "markdown",
   "metadata": {},
   "source": [
    "## CHECKPOINT 10\n",
    "\n",
    "**From the lecture notes, there is a formula for the inverse of such a matrix.** \n",
    "\n",
    "- **Compute `S` when `a` = 5, `b` = 4 and `c` = 2.** \n",
    "- **Compute `SInvForm` which is the inverse of `S` calculated using the formula.**\n",
    "- **Compute `SInvCalc` which is the inverse of `S`   using the `linalg.inv` function.**\n",
    "- **Calculate `sqDiffMatrices(SInvForm,SInvCalc)`. Is this value close to zero? _Why?_**"
   ]
  },
  {
   "cell_type": "code",
   "execution_count": null,
   "metadata": {},
   "outputs": [],
   "source": [
    "# Your code here...\n",
    "\n"
   ]
  },
  {
   "cell_type": "code",
   "execution_count": null,
   "metadata": {},
   "outputs": [],
   "source": [
    "ok.grade('cp10')"
   ]
  },
  {
   "cell_type": "markdown",
   "metadata": {},
   "source": [
    "## CHECKPOINT 11\n",
    "\n",
    "**Compute a composite of a matrix of the above type and a rotation matrix. Are they commutative?**"
   ]
  },
  {
   "cell_type": "code",
   "execution_count": null,
   "metadata": {},
   "outputs": [],
   "source": [
    "# Your code here...\n",
    "\n"
   ]
  },
  {
   "cell_type": "code",
   "execution_count": null,
   "metadata": {},
   "outputs": [],
   "source": [
    "ok.grade('cp11')"
   ]
  },
  {
   "cell_type": "markdown",
   "metadata": {},
   "source": [
    "## CHECKPOINT 12\n",
    "\n",
    "- **Compute the $3 \\times 3$ matrix `RS` which corresponds to applying `S` followed by `R1`.**\n",
    "- **Compute the $3 \\times 3$ matrix `SR` which corresponds to applying `R1` followed by `S`.**\n",
    "- **Compute `sqDiffMatrices(RS,SR)`. Is this value close to zero? _Why?_**"
   ]
  },
  {
   "cell_type": "code",
   "execution_count": null,
   "metadata": {},
   "outputs": [],
   "source": [
    "# Your code here...\n",
    "\n"
   ]
  },
  {
   "cell_type": "code",
   "execution_count": null,
   "metadata": {},
   "outputs": [],
   "source": [
    "ok.grade('cp12')"
   ]
  },
  {
   "cell_type": "markdown",
   "metadata": {},
   "source": [
    "## CHECKPOINT 13\n",
    "\n",
    "**Compute `Sx` which is `x` (the vector defined above) multiplied by `S`. Compute the lengths of `Sx` and `x`. Are they equal?**"
   ]
  },
  {
   "cell_type": "code",
   "execution_count": null,
   "metadata": {},
   "outputs": [],
   "source": [
    "# Your code here...\n",
    "\n"
   ]
  },
  {
   "cell_type": "code",
   "execution_count": null,
   "metadata": {},
   "outputs": [],
   "source": [
    "ok.grade('cp13')"
   ]
  },
  {
   "cell_type": "markdown",
   "metadata": {},
   "source": [
    "<h1 id=\"Adjacency-matrix\">Adjacency matrix</h1>\n",
    "\n",
    "As discussed in the lectures, the adjacency matrix of a graph $\\mathbf{N}$ can be used to\n",
    "compute how many paths exists between two arbitrary vertices of length $p$, by looking at\n",
    "the corresponding entry for $\\mathbf{N}^p$. For example you can find the number of paths of length 2 between any pair \n",
    "of vertices by computing $\\mathbf{N}^2$.\n",
    "\n",
    "## CHECKPOINT 14\n",
    "\n",
    "- **Compute a $4 \\times 4$ NumPy matrix, `N`, corresponding to the definition in the notes of Topic 2.**\n",
    "- **Compute `Nsq` = $\\mathbf{N}^2$ and `Ncb` = $\\mathbf{N}^3$**\n",
    "\n",
    "**Check if they match with what you expect if you looked at the graph and computed the number of paths by hand.**"
   ]
  },
  {
   "cell_type": "code",
   "execution_count": null,
   "metadata": {},
   "outputs": [],
   "source": [
    "# Your code here...\n",
    "\n"
   ]
  },
  {
   "cell_type": "code",
   "execution_count": null,
   "metadata": {},
   "outputs": [],
   "source": [
    "ok.grade('cp14')"
   ]
  },
  {
   "cell_type": "markdown",
   "metadata": {},
   "source": [
    "## CHECKPOINT 15\n",
    "\n",
    "**If one has a graph of $m$ nodes, then the maximum possible path between two nodes is $m$ (satisfy yourself that this is true). This gives a method (albeit a deeply inefficient one)  to determine if a graph is disconnected, i.e. that there are at least one pair of nodes that are not connected through some path.**\n",
    "\n",
    "**If we have a corresponding adjacency matrix\n",
    "$\\mathbf{A}$ then, if we can compute $\\mathbf{A}^2$, $\\mathbf{A}^3$, $\\dots$ $\\mathbf{A}^m$\n",
    "and we find that in all of these cases, we find that a particular entry in this sequence of matrices remains zero, then no path lies between those nodes.**\n",
    "\n",
    "- **Write a function `checkDisconnected` that takes a single argument `A` which is an $n \\times n$ adjacency matrix.** \n",
    "- **`checkDisconnected` returns a boolean that indicates if it is disconnected graph.** \n",
    "\n",
    "**Note:** Every pair of nodes has to be checked to see if one has no path of any length from 1 to n.**\n"
   ]
  },
  {
   "cell_type": "code",
   "execution_count": null,
   "metadata": {},
   "outputs": [],
   "source": [
    "# Your code here...\n",
    "\n"
   ]
  },
  {
   "cell_type": "code",
   "execution_count": null,
   "metadata": {},
   "outputs": [],
   "source": [
    "ok.grade('cp15')"
   ]
  },
  {
   "cell_type": "markdown",
   "metadata": {},
   "source": [
    "<h1 id=\"Extension work\">Extension work</h1>\n",
    "\n",
    "The Internet Movie DataBase [IMDB.com](https://www.imdb.com/) provides encyclopedic amounts of information about Movies and Television programmes. They make available [subsets of their data](https://www.imdb.com/interfaces/) which we can make use of. In the notebook folder there is a file called actorsShort.tsv which is 1,000 lines of data from the subset (the subset available from IMDB is around 41 million lines long). An example line from this file is as follows \n",
    "\n",
    "tt0000005       2       nm0653042       actor   \\N      [\"Assistant\"]\n",
    "\n",
    "the entries are separated by tabs and the entries of interest are in the first and third columns (i.e. tt0000005 and nm0653042 in the above example). The first entry is an id to identify a Movie title. The third entry is an id to identify an actor. \n",
    "\n",
    "In network analysis there has been much research into Actor networks, i.e. creating graphs where actors represent nodes and there is an edge between the nodes if two actors were in the same movie. With this dataset and adjacency matrices we can explore this. \n",
    "\n",
    "<h2 id=\"Task 1\">Task 1 - Construct the adjacency matrix</h2>\n",
    "\n",
    "Write a function that will read in the above file and return a NumPy matrix which has the adjacency matrix corresponding to the graph of the actor network described above. You will first need to figure out how many actors there are, which will inform you of the size of the matrix. Then you need to build the matrix. You might it useful to create dictionaries of the data initially."
   ]
  },
  {
   "cell_type": "code",
   "execution_count": null,
   "metadata": {},
   "outputs": [],
   "source": [
    "# Your code here...\n",
    "\n"
   ]
  },
  {
   "cell_type": "markdown",
   "metadata": {},
   "source": [
    "<h2 id=\"Task 2\">Task 2 - Finding numbers of paths</h2>\n",
    "\n",
    "Write another function that accepts two arguments, one with the adjacency matrix `A` and the other an integer with the path length `n`. The function will return the fraction of pairs of nodes that are connected by a path of length `n`. One should note:\n",
    "* the total possible number of pairs of nodes is `n`(`n` + 1) / 2\n",
    "* matrix multiplication is an ${\\cal{O}}(N^2)$ operation so avoid trying this with large values of `n`\n",
    "* the data set provided is just a small subset of the entire IMDB data set so it's likely that the graph will be disconnected."
   ]
  },
  {
   "cell_type": "code",
   "execution_count": null,
   "metadata": {},
   "outputs": [],
   "source": [
    "# Your code here...\n",
    "\n"
   ]
  },
  {
   "cell_type": "markdown",
   "metadata": {},
   "source": [
    "# Grading your Checkpoints\n",
    "\n",
    "Use the code cell below to grade your checkpoints and run all the tests. For this lab there are **15** checkpoints. You should aim for at least **75%** on each lab sheet."
   ]
  },
  {
   "cell_type": "code",
   "execution_count": null,
   "metadata": {},
   "outputs": [],
   "source": [
    "ok.score()"
   ]
  }
 ],
 "metadata": {
  "kernelspec": {
   "display_name": "Python 3 (ipykernel)",
   "language": "python",
   "name": "python3"
  },
  "language_info": {
   "codemirror_mode": {
    "name": "ipython",
    "version": 3
   },
   "file_extension": ".py",
   "mimetype": "text/x-python",
   "name": "python",
   "nbconvert_exporter": "python",
   "pygments_lexer": "ipython3",
   "version": "3.9.9"
  }
 },
 "nbformat": 4,
 "nbformat_minor": 2
}
